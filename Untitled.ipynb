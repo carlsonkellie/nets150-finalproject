{
 "cells": [
  {
   "cell_type": "code",
   "execution_count": 2,
   "metadata": {},
   "outputs": [
    {
     "name": "stdout",
     "output_type": "stream",
     "text": [
      "\u001b[33mDEPRECATION: Python 2.7 will reach the end of its life on January 1st, 2020. Please upgrade your Python as Python 2.7 won't be maintained after that date. A future version of pip will drop support for Python 2.7.\u001b[0m\n",
      "Collecting lyricsgenius\n",
      "  Using cached https://files.pythonhosted.org/packages/43/59/56e4d83b90102cd31dcfeeaa19eda52c2484d7814585bc3d5912855ea2e2/lyricsgenius-1.5.1.tar.gz\n",
      "    Complete output from command python setup.py egg_info:\n",
      "    Traceback (most recent call last):\n",
      "      File \"<string>\", line 1, in <module>\n",
      "      File \"/private/var/folders/fv/0pyv4m794vjflxn4h4gk1q6m0000gn/T/pip-install-OrJMPZ/lyricsgenius/setup.py\", line 10, in <module>\n",
      "        assert sys.version_info[0] == 3, \"LyricsGenius requires Python 3.\"\n",
      "    AssertionError: LyricsGenius requires Python 3.\n",
      "    \n",
      "    ----------------------------------------\n",
      "\u001b[31mCommand \"python setup.py egg_info\" failed with error code 1 in /private/var/folders/fv/0pyv4m794vjflxn4h4gk1q6m0000gn/T/pip-install-OrJMPZ/lyricsgenius/\u001b[0m\n"
     ]
    }
   ],
   "source": [
    "!pip install lyricsgenius"
   ]
  },
  {
   "cell_type": "code",
   "execution_count": null,
   "metadata": {},
   "outputs": [],
   "source": []
  }
 ],
 "metadata": {
  "kernelspec": {
   "display_name": "Python 3",
   "language": "python",
   "name": "python3"
  },
  "language_info": {
   "codemirror_mode": {
    "name": "ipython",
    "version": 3
   },
   "file_extension": ".py",
   "mimetype": "text/x-python",
   "name": "python",
   "nbconvert_exporter": "python",
   "pygments_lexer": "ipython3",
   "version": "3.6.5"
  }
 },
 "nbformat": 4,
 "nbformat_minor": 2
}
