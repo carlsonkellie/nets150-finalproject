{
 "cells": [
  {
   "cell_type": "code",
   "execution_count": 2,
   "metadata": {},
   "outputs": [
    {
     "name": "stdout",
     "output_type": "stream",
     "text": [
      "Collecting networkx\n",
      "\u001b[?25l  Downloading https://files.pythonhosted.org/packages/85/08/f20aef11d4c343b557e5de6b9548761811eb16e438cee3d32b1c66c8566b/networkx-2.3.zip (1.7MB)\n",
      "\u001b[K     |████████████████████████████████| 1.8MB 3.6MB/s eta 0:00:01\n",
      "\u001b[?25hRequirement already satisfied: decorator>=4.3.0 in /anaconda3/envs/py3/lib/python3.7/site-packages (from networkx) (4.4.0)\n",
      "Building wheels for collected packages: networkx\n",
      "  Building wheel for networkx (setup.py) ... \u001b[?25ldone\n",
      "\u001b[?25h  Stored in directory: /Users/kelliecarlson/Library/Caches/pip/wheels/de/63/64/3699be2a9d0ccdb37c7f16329acf3863fd76eda58c39c737af\n",
      "Successfully built networkx\n",
      "Installing collected packages: networkx\n",
      "Successfully installed networkx-2.3\n"
     ]
    }
   ],
   "source": [
    "!pip install networkx"
   ]
  },
  {
   "cell_type": "code",
   "execution_count": 3,
   "metadata": {},
   "outputs": [],
   "source": [
    "import networkx as nx\n",
    "import pandas as pd \n",
    "\n",
    "G = nx.Graph()\n"
   ]
  },
  {
   "cell_type": "code",
   "execution_count": 17,
   "metadata": {},
   "outputs": [],
   "source": [
    "trade = pd.read_csv(\"tradeFilteredExpanded.csv\") \n",
    "trade.head()\n",
    "\n",
    "#for idx, row in trade.iterrows():\n",
    "#    print (row[0])\n",
    "#    print (row[1])\n",
    "\n",
    "nodearr = pd.unique(trade[['Country 1', 'Country 2']].values.ravel('K'))\n",
    "for n in nodearr:\n",
    "    G.add_node(n)\n",
    "\n",
    "for idx, row in trade.iterrows():\n",
    "    G.add_edge(row[0], row[1])\n",
    "    "
   ]
  },
  {
   "cell_type": "code",
   "execution_count": 18,
   "metadata": {},
   "outputs": [
    {
     "name": "stdout",
     "output_type": "stream",
     "text": [
      "['Colombia', 'Singapore', 'Australia', 'New Zealand', 'Japan', 'Philippines', 'United States of America', 'Canada', 'Brazil', 'Mexico', 'India']\n",
      "[('Colombia', 'Australia'), ('Colombia', 'New Zealand'), ('Colombia', 'Japan'), ('Colombia', 'United States of America'), ('Colombia', 'Brazil'), ('Colombia', 'Mexico'), ('Colombia', 'India'), ('Singapore', 'Australia'), ('Singapore', 'New Zealand'), ('Singapore', 'Japan'), ('Singapore', 'United States of America'), ('Singapore', 'Brazil'), ('Singapore', 'Mexico'), ('Singapore', 'India'), ('Australia', 'New Zealand'), ('Australia', 'Japan'), ('Australia', 'United States of America'), ('Australia', 'Brazil'), ('Australia', 'Mexico'), ('Australia', 'India'), ('Australia', 'Philippines'), ('Australia', 'Canada'), ('New Zealand', 'Japan'), ('New Zealand', 'United States of America'), ('New Zealand', 'Brazil'), ('New Zealand', 'Mexico'), ('New Zealand', 'India'), ('New Zealand', 'Philippines'), ('New Zealand', 'Canada'), ('Japan', 'United States of America'), ('Japan', 'Brazil'), ('Japan', 'Mexico'), ('Japan', 'India'), ('Japan', 'Philippines'), ('Japan', 'Canada'), ('Philippines', 'United States of America'), ('Philippines', 'Brazil'), ('Philippines', 'Mexico'), ('Philippines', 'India'), ('United States of America', 'Brazil'), ('United States of America', 'Mexico'), ('United States of America', 'India'), ('United States of America', 'Canada'), ('Canada', 'Brazil'), ('Canada', 'Mexico'), ('Canada', 'India'), ('Brazil', 'Mexico'), ('Brazil', 'India'), ('Mexico', 'India')]\n"
     ]
    }
   ],
   "source": [
    "print(list(G.nodes))\n",
    "print(list(G.edges))"
   ]
  },
  {
   "cell_type": "code",
   "execution_count": 19,
   "metadata": {},
   "outputs": [
    {
     "data": {
      "text/plain": [
       "{'Colombia': {'Singapore': ['Colombia', 'Australia', 'Singapore'],\n",
       "  'Australia': ['Colombia', 'Australia'],\n",
       "  'New Zealand': ['Colombia', 'New Zealand'],\n",
       "  'Japan': ['Colombia', 'Japan'],\n",
       "  'Philippines': ['Colombia', 'Australia', 'Philippines'],\n",
       "  'United States of America': ['Colombia', 'United States of America'],\n",
       "  'Canada': ['Colombia', 'Australia', 'Canada'],\n",
       "  'Brazil': ['Colombia', 'Brazil'],\n",
       "  'Mexico': ['Colombia', 'Mexico'],\n",
       "  'India': ['Colombia', 'India']},\n",
       " 'Singapore': {'Colombia': ['Singapore', 'Australia', 'Colombia'],\n",
       "  'Australia': ['Singapore', 'Australia'],\n",
       "  'New Zealand': ['Singapore', 'New Zealand'],\n",
       "  'Japan': ['Singapore', 'Japan'],\n",
       "  'Philippines': ['Singapore', 'Australia', 'Philippines'],\n",
       "  'United States of America': ['Singapore', 'United States of America'],\n",
       "  'Canada': ['Singapore', 'Australia', 'Canada'],\n",
       "  'Brazil': ['Singapore', 'Brazil'],\n",
       "  'Mexico': ['Singapore', 'Mexico'],\n",
       "  'India': ['Singapore', 'India']},\n",
       " 'Australia': {'Colombia': ['Australia', 'Colombia'],\n",
       "  'Singapore': ['Australia', 'Singapore'],\n",
       "  'New Zealand': ['Australia', 'New Zealand'],\n",
       "  'Japan': ['Australia', 'Japan'],\n",
       "  'Philippines': ['Australia', 'Philippines'],\n",
       "  'United States of America': ['Australia', 'United States of America'],\n",
       "  'Canada': ['Australia', 'Canada'],\n",
       "  'Brazil': ['Australia', 'Brazil'],\n",
       "  'Mexico': ['Australia', 'Mexico'],\n",
       "  'India': ['Australia', 'India']},\n",
       " 'New Zealand': {'Colombia': ['New Zealand', 'Colombia'],\n",
       "  'Singapore': ['New Zealand', 'Singapore'],\n",
       "  'Australia': ['New Zealand', 'Australia'],\n",
       "  'Japan': ['New Zealand', 'Japan'],\n",
       "  'Philippines': ['New Zealand', 'Philippines'],\n",
       "  'United States of America': ['New Zealand', 'United States of America'],\n",
       "  'Canada': ['New Zealand', 'Canada'],\n",
       "  'Brazil': ['New Zealand', 'Brazil'],\n",
       "  'Mexico': ['New Zealand', 'Mexico'],\n",
       "  'India': ['New Zealand', 'India']},\n",
       " 'Japan': {'Colombia': ['Japan', 'Colombia'],\n",
       "  'Singapore': ['Japan', 'Singapore'],\n",
       "  'Australia': ['Japan', 'Australia'],\n",
       "  'New Zealand': ['Japan', 'New Zealand'],\n",
       "  'Philippines': ['Japan', 'Philippines'],\n",
       "  'United States of America': ['Japan', 'United States of America'],\n",
       "  'Canada': ['Japan', 'Canada'],\n",
       "  'Brazil': ['Japan', 'Brazil'],\n",
       "  'Mexico': ['Japan', 'Mexico'],\n",
       "  'India': ['Japan', 'India']},\n",
       " 'Philippines': {'Colombia': ['Philippines', 'Australia', 'Colombia'],\n",
       "  'Singapore': ['Philippines', 'Australia', 'Singapore'],\n",
       "  'Australia': ['Philippines', 'Australia'],\n",
       "  'New Zealand': ['Philippines', 'New Zealand'],\n",
       "  'Japan': ['Philippines', 'Japan'],\n",
       "  'United States of America': ['Philippines', 'United States of America'],\n",
       "  'Canada': ['Philippines', 'Australia', 'Canada'],\n",
       "  'Brazil': ['Philippines', 'Brazil'],\n",
       "  'Mexico': ['Philippines', 'Mexico'],\n",
       "  'India': ['Philippines', 'India']},\n",
       " 'United States of America': {'Colombia': ['United States of America',\n",
       "   'Colombia'],\n",
       "  'Singapore': ['United States of America', 'Singapore'],\n",
       "  'Australia': ['United States of America', 'Australia'],\n",
       "  'New Zealand': ['United States of America', 'New Zealand'],\n",
       "  'Japan': ['United States of America', 'Japan'],\n",
       "  'Philippines': ['United States of America', 'Philippines'],\n",
       "  'Canada': ['United States of America', 'Canada'],\n",
       "  'Brazil': ['United States of America', 'Brazil'],\n",
       "  'Mexico': ['United States of America', 'Mexico'],\n",
       "  'India': ['United States of America', 'India']},\n",
       " 'Canada': {'Colombia': ['Canada', 'Australia', 'Colombia'],\n",
       "  'Singapore': ['Canada', 'Australia', 'Singapore'],\n",
       "  'Australia': ['Canada', 'Australia'],\n",
       "  'New Zealand': ['Canada', 'New Zealand'],\n",
       "  'Japan': ['Canada', 'Japan'],\n",
       "  'Philippines': ['Canada', 'Australia', 'Philippines'],\n",
       "  'United States of America': ['Canada', 'United States of America'],\n",
       "  'Brazil': ['Canada', 'Brazil'],\n",
       "  'Mexico': ['Canada', 'Mexico'],\n",
       "  'India': ['Canada', 'India']},\n",
       " 'Brazil': {'Colombia': ['Brazil', 'Colombia'],\n",
       "  'Singapore': ['Brazil', 'Singapore'],\n",
       "  'Australia': ['Brazil', 'Australia'],\n",
       "  'New Zealand': ['Brazil', 'New Zealand'],\n",
       "  'Japan': ['Brazil', 'Japan'],\n",
       "  'Philippines': ['Brazil', 'Philippines'],\n",
       "  'United States of America': ['Brazil', 'United States of America'],\n",
       "  'Canada': ['Brazil', 'Canada'],\n",
       "  'Mexico': ['Brazil', 'Mexico'],\n",
       "  'India': ['Brazil', 'India']},\n",
       " 'Mexico': {'Colombia': ['Mexico', 'Colombia'],\n",
       "  'Singapore': ['Mexico', 'Singapore'],\n",
       "  'Australia': ['Mexico', 'Australia'],\n",
       "  'New Zealand': ['Mexico', 'New Zealand'],\n",
       "  'Japan': ['Mexico', 'Japan'],\n",
       "  'Philippines': ['Mexico', 'Philippines'],\n",
       "  'United States of America': ['Mexico', 'United States of America'],\n",
       "  'Canada': ['Mexico', 'Canada'],\n",
       "  'Brazil': ['Mexico', 'Brazil'],\n",
       "  'India': ['Mexico', 'India']},\n",
       " 'India': {'Colombia': ['India', 'Colombia'],\n",
       "  'Singapore': ['India', 'Singapore'],\n",
       "  'Australia': ['India', 'Australia'],\n",
       "  'New Zealand': ['India', 'New Zealand'],\n",
       "  'Japan': ['India', 'Japan'],\n",
       "  'Philippines': ['India', 'Philippines'],\n",
       "  'United States of America': ['India', 'United States of America'],\n",
       "  'Canada': ['India', 'Canada'],\n",
       "  'Brazil': ['India', 'Brazil'],\n",
       "  'Mexico': ['India', 'Mexico']}}"
      ]
     },
     "execution_count": 19,
     "metadata": {},
     "output_type": "execute_result"
    }
   ],
   "source": [
    "countries = nodearr\n",
    "allshortestpaths = nx.shortest_path(G)\n",
    "\n",
    "allshortestpathsdict = {}\n",
    "\n",
    "for x in countries:\n",
    "    countryshortestpathsdict = {}\n",
    "    for y in countries:\n",
    "        if x != y and y in allshortestpaths[x].keys():\n",
    "            #print(x)\n",
    "            #print(y)\n",
    "            #print(allshortestpaths[x][y])\n",
    "            countryshortestpathsdict[y] = allshortestpaths[x][y]\n",
    "    allshortestpathsdict[x] = countryshortestpathsdict\n",
    "\n",
    "allshortestpathsdict\n",
    "\n"
   ]
  },
  {
   "cell_type": "code",
   "execution_count": null,
   "metadata": {},
   "outputs": [],
   "source": []
  },
  {
   "cell_type": "code",
   "execution_count": null,
   "metadata": {},
   "outputs": [],
   "source": []
  }
 ],
 "metadata": {
  "kernelspec": {
   "display_name": "Python 3",
   "language": "python",
   "name": "python3"
  },
  "language_info": {
   "codemirror_mode": {
    "name": "ipython",
    "version": 3
   },
   "file_extension": ".py",
   "mimetype": "text/x-python",
   "name": "python",
   "nbconvert_exporter": "python",
   "pygments_lexer": "ipython3",
   "version": "3.7.2"
  }
 },
 "nbformat": 4,
 "nbformat_minor": 2
}
